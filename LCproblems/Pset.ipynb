{
 "cells": [
  {
   "cell_type": "markdown",
   "metadata": {},
   "source": [
    "p1. self diving numbers \n",
    "https://leetcode.com/problems/self-dividing-numbers/\n",
    "\n",
    "A self-dividing number is a number that is divisible by every digit it contains.\n",
    "\n",
    "For example, 128 is a self-dividing number because 128 % 1 == 0, 128 % 2 == 0, and 128 % 8 == 0.\n",
    "\n",
    "Also, a self-dividing number is not allowed to contain the digit zero.\n",
    "\n",
    "Given a lower and upper number bound, output a list of every possible self dividing number, including the bounds if possible."
   ]
  },
  {
   "cell_type": "code",
   "execution_count": 14,
   "metadata": {},
   "outputs": [],
   "source": [
    "#left and right boundary, output all # in that range that are self dividing\n",
    "def selfDividingNumbers(left, right):\n",
    "    selfDividing = []\n",
    "    for num in range(left,right+1):\n",
    "        digits = set([v for v in str(num)])\n",
    "        ans = []\n",
    "        for d in digits:\n",
    "            if d == '0':\n",
    "                ans.append(1)\n",
    "            else:\n",
    "                ans.append(int(num)%int(d))\n",
    "        if sum(ans) == 0:\n",
    "            selfDividing.append(num)\n",
    "#     print (selfDividing)\n",
    "    return selfDividing\n",
    "\n",
    "\n",
    "A1=selfDividingNumbers(2,99)\n"
   ]
  },
  {
   "cell_type": "code",
   "execution_count": null,
   "metadata": {},
   "outputs": [],
   "source": []
  },
  {
   "cell_type": "markdown",
   "metadata": {},
   "source": [
    "Given a non negative integer number num. For every numbers i in the range 0 ≤ i ≤ num calculate the number of 1's in their binary representation and return them as an array.\n",
    "\n",
    "https://leetcode.com/problems/counting-bits/submissions/\n"
   ]
  },
  {
   "cell_type": "code",
   "execution_count": 38,
   "metadata": {},
   "outputs": [
    {
     "ename": "SyntaxError",
     "evalue": "unexpected EOF while parsing (<ipython-input-38-08578d062b32>, line 1)",
     "output_type": "error",
     "traceback": [
      "\u001b[1;36m  File \u001b[1;32m\"<ipython-input-38-08578d062b32>\"\u001b[1;36m, line \u001b[1;32m1\u001b[0m\n\u001b[1;33m    def countBits(num):\u001b[0m\n\u001b[1;37m                       ^\u001b[0m\n\u001b[1;31mSyntaxError\u001b[0m\u001b[1;31m:\u001b[0m unexpected EOF while parsing\n"
     ]
    }
   ],
   "source": [
    "def countBits(num):\n",
    "    output = []\n",
    "    for i in range(num):\n",
    "        binary1 = bin(i)\n",
    "        count1 = sum(map(lambda x:x=='1',binary1))\n",
    "        output.append(count1)\n",
    "    return output\n",
    "\n",
    "# used the bin function. maybe we can get around it \n",
    "\n",
    "\n",
    "# since it wants all # up to a certain pt, maybe we can use dp \n"
   ]
  },
  {
   "cell_type": "code",
   "execution_count": 36,
   "metadata": {},
   "outputs": [],
   "source": [
    "# bit wise operatio.\n",
    "# >> (logical right shift?) \n",
    "# << logical left shift?\n"
   ]
  },
  {
   "cell_type": "code",
   "execution_count": 42,
   "metadata": {},
   "outputs": [],
   "source": [
    "def countBits(num):\n",
    "    output = []\n",
    "    for i in range(num):\n",
    "        binary1 = bin(i)\n",
    "        count1 = sum(map(lambda x:x=='1',binary1))\n",
    "        output.append(count1)\n",
    "    return output\n"
   ]
  },
  {
   "cell_type": "code",
   "execution_count": 47,
   "metadata": {},
   "outputs": [
    {
     "data": {
      "text/plain": [
       "2"
      ]
     },
     "execution_count": 47,
     "metadata": {},
     "output_type": "execute_result"
    }
   ],
   "source": []
  },
  {
   "cell_type": "code",
   "execution_count": 48,
   "metadata": {},
   "outputs": [
    {
     "data": {
      "text/plain": [
       "2"
      ]
     },
     "execution_count": 48,
     "metadata": {},
     "output_type": "execute_result"
    }
   ],
   "source": []
  },
  {
   "cell_type": "markdown",
   "metadata": {},
   "source": [
    "all path from source to target\n",
    "https://leetcode.com/problems/all-paths-from-source-to-target/\n",
    "\n",
    "Given a directed, acyclic graph of N nodes.  Find all possible paths from node 0 to node N-1, and return them in any order.\n",
    "\n",
    "The graph is given as follows:  the nodes are 0, 1, ..., graph.length - 1.  graph[i] is a list of all nodes j for which the edge (i, j) exists. \n",
    "\n",
    "this is depth first search?\n"
   ]
  },
  {
   "cell_type": "code",
   "execution_count": 52,
   "metadata": {},
   "outputs": [],
   "source": [
    "stack = []\n",
    "stack.append([0,[0]])\n",
    "\n"
   ]
  },
  {
   "cell_type": "code",
   "execution_count": 54,
   "metadata": {},
   "outputs": [],
   "source": [
    "currentN, currentP = stack.pop()"
   ]
  },
  {
   "cell_type": "code",
   "execution_count": 56,
   "metadata": {},
   "outputs": [
    {
     "data": {
      "text/plain": [
       "(0, [0])"
      ]
     },
     "execution_count": 56,
     "metadata": {},
     "output_type": "execute_result"
    }
   ],
   "source": [
    "currentN, currentP"
   ]
  },
  {
   "cell_type": "code",
   "execution_count": null,
   "metadata": {},
   "outputs": [],
   "source": []
  }
 ],
 "metadata": {
  "kernelspec": {
   "display_name": "Python 3",
   "language": "python",
   "name": "python3"
  },
  "language_info": {
   "codemirror_mode": {
    "name": "ipython",
    "version": 3
   },
   "file_extension": ".py",
   "mimetype": "text/x-python",
   "name": "python",
   "nbconvert_exporter": "python",
   "pygments_lexer": "ipython3",
   "version": "3.6.8"
  }
 },
 "nbformat": 4,
 "nbformat_minor": 2
}
