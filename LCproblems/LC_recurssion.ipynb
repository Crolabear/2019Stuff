{
 "cells": [
  {
   "cell_type": "code",
   "execution_count": 1,
   "metadata": {},
   "outputs": [
    {
     "data": {
      "text/html": [
       "<script>\n",
       "code_show=true; \n",
       "function code_toggle() {\n",
       " if (code_show){\n",
       " $('div.input').hide();\n",
       " } else {\n",
       " $('div.input').show();\n",
       " }\n",
       " code_show = !code_show\n",
       "} \n",
       "$( document ).ready(code_toggle);\n",
       "</script>\n",
       "<form action=\"javascript:code_toggle()\"><input type=\"submit\" value=\"Click here to toggle on/off the raw code.\"></form>"
      ],
      "text/plain": [
       "<IPython.core.display.HTML object>"
      ]
     },
     "execution_count": 1,
     "metadata": {},
     "output_type": "execute_result"
    }
   ],
   "source": [
    "from IPython.display import HTML\n",
    "\n",
    "HTML('''<script>\n",
    "code_show=true; \n",
    "function code_toggle() {\n",
    " if (code_show){\n",
    " $('div.input').hide();\n",
    " } else {\n",
    " $('div.input').show();\n",
    " }\n",
    " code_show = !code_show\n",
    "} \n",
    "$( document ).ready(code_toggle);\n",
    "</script>\n",
    "<form action=\"javascript:code_toggle()\"><input type=\"submit\" value=\"Click here to toggle on/off the raw code.\"></form>''')"
   ]
  },
  {
   "cell_type": "markdown",
   "metadata": {},
   "source": [
    "### Print a string in reverse order.\n",
    "### https://leetcode.com/explore/featured/card/recursion-i/250/principle-of-recursion/1440/\n",
    "\n",
    "\n",
    "Write a function that reverses a string. The input string is given as an array of characters char[].\n",
    "\n",
    "Do not allocate extra space for another array, you must do this by modifying the input array in-place with O(1) extra memory.\n",
    "\n",
    "You may assume all the characters consist of printable ascii characters.\n",
    "\n",
    " \n",
    "\n",
    "Example 1:\n",
    "\n",
    "Input: [\"h\",\"e\",\"l\",\"l\",\"o\"]\n",
    "Output: [\"o\",\"l\",\"l\",\"e\",\"h\"]\n",
    "Example 2:\n",
    "\n",
    "Input: [\"H\",\"a\",\"n\",\"n\",\"a\",\"h\"]\n",
    "Output: [\"h\",\"a\",\"n\",\"n\",\"a\",\"H\"]\n"
   ]
  },
  {
   "cell_type": "code",
   "execution_count": 9,
   "metadata": {},
   "outputs": [],
   "source": [
    "def reverseSTR(s):\n",
    "    # use recurrsion\n",
    "    if len(s) <= 1:\n",
    "        print(s)\n",
    "    else:\n",
    "        print(s[-1])\n",
    "        reverseSTR(s[:-1])\n",
    "        "
   ]
  },
  {
   "cell_type": "code",
   "execution_count": null,
   "metadata": {},
   "outputs": [],
   "source": []
  },
  {
   "cell_type": "code",
   "execution_count": null,
   "metadata": {},
   "outputs": [],
   "source": []
  },
  {
   "cell_type": "markdown",
   "metadata": {},
   "source": [
    "### swap nodes in pairs\n",
    "### https://leetcode.com/explore/featured/card/recursion-i/250/principle-of-recursion/1681/\n",
    "\n",
    "Given a linked list, swap every two adjacent nodes and return its head.\n",
    "You may not modify the values in the list's nodes, only nodes itself may be changed.\n",
    "\n",
    " \n",
    "Example:\n",
    "\n",
    "Given 1->2->3->4, you should return the list as 2->1->4->3.\n"
   ]
  },
  {
   "cell_type": "markdown",
   "metadata": {},
   "source": [
    "Given a non-negative integer numRows, generate the first numRows of Pascal's triangle."
   ]
  },
  {
   "cell_type": "code",
   "execution_count": 23,
   "metadata": {},
   "outputs": [],
   "source": [
    "# recursion \n",
    "# takes long time...\n",
    "# try DP\n",
    "def get_i_j_term(i,j):\n",
    "    if j <= i:\n",
    "        if j == 0:\n",
    "            return 1\n",
    "        elif i==j:\n",
    "            return 1\n",
    "        else:\n",
    "            return get_i_j_term(i-1,j-1) + get_i_j_term(i-1,j)\n",
    "    else:\n",
    "        return 0"
   ]
  },
  {
   "cell_type": "code",
   "execution_count": 39,
   "metadata": {},
   "outputs": [
    {
     "data": {
      "text/plain": [
       "5200300"
      ]
     },
     "execution_count": 39,
     "metadata": {},
     "output_type": "execute_result"
    }
   ],
   "source": [
    "# DP\n",
    "# this will return all the rows up to the input number\n",
    "def generate(numRows):\n",
    "    triangle = []   # initialize the array \n",
    "    # the triangle array is updated real time \n",
    "    \n",
    "    for row_num in range(numRows):\n",
    "        row = [None for _ in range(row_num+1)] # create an array for a specific row \n",
    "        row[0], row[-1] = 1,1  # update the newly created row with 1 for 1st and last entry\n",
    "        \n",
    "        # lool over the newly created row and update those entry\n",
    "        for j in range(1,len(row)-1):\n",
    "            row[j] = triangle[row_num-1][j-1] + triangle[row_num-1][j]\n",
    "        triangle.append(row)\n",
    "    return triangle\n",
    "\n"
   ]
  },
  {
   "cell_type": "code",
   "execution_count": 38,
   "metadata": {},
   "outputs": [
    {
     "data": {
      "text/plain": [
       "[0, 1, 2]"
      ]
     },
     "execution_count": 38,
     "metadata": {},
     "output_type": "execute_result"
    }
   ],
   "source": [
    "# DP\n",
    "# return just 1 row\n",
    "# same exact set up but just return the last entry\n",
    "def generate(rowIndex):\n",
    "    triangle = []   # initialize the array \n",
    "    # the triangle array is updated real time \n",
    "    \n",
    "    for row_num in range(rowIndex+1):\n",
    "        row = [None for _ in range(row_num+1)] # create an array for a specific row \n",
    "        row[0], row[-1] = 1,1  # update the newly created row with 1 for 1st and last entry\n",
    "        \n",
    "        # lool over the newly created row and update those entry\n",
    "        for j in range(1,len(row)-1):\n",
    "            row[j] = triangle[row_num-1][j-1] + triangle[row_num-1][j]\n",
    "        triangle.append(row)\n",
    "    return triangle[-1]"
   ]
  },
  {
   "cell_type": "markdown",
   "metadata": {},
   "source": [
    "### reverse a linked list\n",
    "### https://leetcode.com/explore/featured/card/recursion-i/251/scenario-i-recurrence-relation/2378/\n",
    "\n",
    "\n",
    "\n",
    "# Dont know how to solve this one yet "
   ]
  },
  {
   "cell_type": "code",
   "execution_count": null,
   "metadata": {},
   "outputs": [],
   "source": [
    "def reverseList(head):\n",
    "    # iterative:\n",
    "    # linked list u move by accessing head and head.next\n",
    "    newhead=None\n",
    "    if (head and head.next):\n",
    "        return head\n",
    "    else:\n",
    "        return head\n",
    "    \n",
    "    \n",
    "    "
   ]
  },
  {
   "cell_type": "code",
   "execution_count": 81,
   "metadata": {},
   "outputs": [],
   "source": [
    "# Fibonacci number. \n",
    "# use memoization to help reduce duplicate calculation\n",
    "# https://leetcode.com/explore/learn/card/recursion-i/255/recursion-memoization/1661/\n",
    "    \n",
    "F = {0:0,1:1}  # the cache should be outside the function\n",
    "# also check need a condition to check if the input case is covered. \n",
    "# if covered -> return the cache, if not, update the cache \n",
    "def fib(N):\n",
    "    if N < 0:\n",
    "        return 0\n",
    "    elif N <=1:\n",
    "        return F[N]\n",
    "    elif N in F.keys():\n",
    "        return F[N]\n",
    "    else:\n",
    "        F[N] = (fib(N-1) + fib(N-2))\n",
    "        print(F)\n",
    "        return F[N]\n",
    "    \n",
    "\n",
    "# the online leetcode version.. requires self. -\n",
    "# class Solution:\n",
    "#     F = {0:0,1:1}  # the cache should be inside the function\n",
    "#     def fib(self, N):\n",
    "#         if N < 0:\n",
    "#             return 0\n",
    "#         elif N <=1:\n",
    "#             return self.F[N]\n",
    "#         elif N in self.F.keys():\n",
    "#             return self.F[N]\n",
    "#         else:\n",
    "#             self.F[N] = (self.fib(N-1) + self.fib(N-2))\n",
    "#             # print(F)\n",
    "#             return self.F[N]    \n",
    "    "
   ]
  },
  {
   "cell_type": "markdown",
   "metadata": {},
   "source": [
    "### climbining steps \n",
    "### https://leetcode.com/explore/learn/card/recursion-i/255/recursion-memoization/1662/\n",
    "\n",
    "\n",
    "You are climbing a stair case. It takes n steps to reach to the top.\n",
    "\n",
    "Each time you can either climb 1 or 2 steps. In how many distinct ways can you climb to the top?\n",
    "\n",
    "Note: Given n will be a positive integer.\n",
    "\n",
    "Example 1:\n",
    "\n",
    "Input: 2\n",
    "Output: 2\n",
    "Explanation: There are two ways to climb to the top.\n",
    "1. 1 step + 1 step\n",
    "2. 2 steps\n",
    "Example 2:\n",
    "\n",
    "Input: 3\n",
    "Output: 3\n",
    "Explanation: There are three ways to climb to the top.\n",
    "1. 1 step + 1 step + 1 step\n",
    "2. 1 step + 2 steps\n",
    "3. 2 steps + 1 step"
   ]
  },
  {
   "cell_type": "code",
   "execution_count": 93,
   "metadata": {},
   "outputs": [],
   "source": [
    "# recurssion -- takes long \n",
    "# try DP \n",
    "def climbStairs(n): \n",
    "    if n == 1:\n",
    "        return 1\n",
    "    elif n==2:\n",
    "        return 2\n",
    "    else:\n",
    "        return climbStairs(n-1)+climbStairs(n-2)\n"
   ]
  },
  {
   "cell_type": "code",
   "execution_count": 94,
   "metadata": {},
   "outputs": [
    {
     "data": {
      "text/plain": [
       "3"
      ]
     },
     "execution_count": 94,
     "metadata": {},
     "output_type": "execute_result"
    }
   ],
   "source": []
  },
  {
   "cell_type": "code",
   "execution_count": 97,
   "metadata": {},
   "outputs": [],
   "source": [
    "knownMoves = {0:0,1:1,2:2}\n",
    "def climbStairs(n): \n",
    "    if n<0:\n",
    "        return 0\n",
    "    elif n in knownMoves.keys():\n",
    "        return knownMoves[n]\n",
    "    else:\n",
    "        knownMoves[n] = climbStairs(n-1)+climbStairs(n-2)\n",
    "        return knownMoves[n]"
   ]
  },
  {
   "cell_type": "code",
   "execution_count": 98,
   "metadata": {},
   "outputs": [
    {
     "data": {
      "text/plain": [
       "14930352"
      ]
     },
     "execution_count": 98,
     "metadata": {},
     "output_type": "execute_result"
    }
   ],
   "source": [
    "climbStairs(35)"
   ]
  },
  {
   "cell_type": "code",
   "execution_count": null,
   "metadata": {},
   "outputs": [],
   "source": []
  },
  {
   "cell_type": "code",
   "execution_count": null,
   "metadata": {},
   "outputs": [],
   "source": []
  },
  {
   "cell_type": "markdown",
   "metadata": {},
   "source": [
    "max depth of a binary tree \n",
    "# Dont know how to deal with tree yet "
   ]
  },
  {
   "cell_type": "code",
   "execution_count": null,
   "metadata": {},
   "outputs": [],
   "source": []
  },
  {
   "cell_type": "markdown",
   "metadata": {},
   "source": [
    "exponent \n",
    "\n",
    "# also it's ok to define a function within a function\n"
   ]
  },
  {
   "cell_type": "code",
   "execution_count": 114,
   "metadata": {},
   "outputs": [],
   "source": [
    "\n",
    "\n",
    "def myPow(x, n):\n",
    "    if n == 0:\n",
    "        return 1\n",
    "    elif n < 0:\n",
    "        return 1/myPow(x,-n)\n",
    "    elif n%2 ==0:  # if n is an even number:\n",
    "        return myPow(x*x,n/2)\n",
    "    else:\n",
    "        return myPow(x,n-1)*x\n",
    "\n",
    "        \n",
    "            \n",
    "def myPow2(x, n):\n",
    "    if n == 0:\n",
    "        return 1\n",
    "    elif n < 0:\n",
    "        return 1/myPow2(x,-n)\n",
    "    else:\n",
    "        return myPow2(x,n-1)*x\n",
    "\n",
    "    "
   ]
  },
  {
   "cell_type": "code",
   "execution_count": null,
   "metadata": {},
   "outputs": [],
   "source": []
  },
  {
   "cell_type": "markdown",
   "metadata": {},
   "source": [
    "### Hamming Distance\n",
    "### https://leetcode.com/problems/hamming-distance/\n",
    "\n",
    "The Hamming distance between two integers is the number of positions at which the corresponding bits are different.\n",
    "\n",
    "Given two integers x and y, calculate the Hamming distance.\n",
    "\n",
    "Note:\n",
    "0 ≤ x, y < 231.\n",
    "\n",
    "Example:\n",
    "\n",
    "Input: x = 1, y = 4\n",
    "\n",
    "Output: 2\n",
    "\n",
    "Explanation:\n",
    "1   (0 0 0 1)\n",
    "4   (0 1 0 0)\n",
    "       ↑   ↑\n"
   ]
  },
  {
   "cell_type": "code",
   "execution_count": 27,
   "metadata": {},
   "outputs": [],
   "source": [
    "def findHamming(x,y):\n",
    "    c = x ^ y\n",
    "    return bin(c).count('1')"
   ]
  },
  {
   "cell_type": "code",
   "execution_count": 28,
   "metadata": {},
   "outputs": [
    {
     "data": {
      "text/plain": [
       "1"
      ]
     },
     "execution_count": 28,
     "metadata": {},
     "output_type": "execute_result"
    }
   ],
   "source": []
  },
  {
   "cell_type": "markdown",
   "metadata": {},
   "source": [
    "### third max number \n",
    "https://leetcode.com/problems/third-maximum-number/\n",
    "\n",
    "\n",
    "Given a non-empty array of integers, return the third maximum number in this array. If it does not exist, return the maximum number. The time complexity must be in O(n).\n",
    "\n",
    "Example 1:\n",
    "Input: [3, 2, 1]\n",
    "\n",
    "Output: 1\n",
    "\n",
    "Explanation: The third maximum is 1.\n",
    "Example 2:\n",
    "Input: [1, 2]\n",
    "\n",
    "Output: 2\n",
    "\n",
    "Explanation: The third maximum does not exist, so the maximum (2) is returned instead.\n",
    "Example 3:\n",
    "Input: [2, 2, 3, 1]\n",
    "\n",
    "Output: 1\n",
    "\n",
    "Explanation: Note that the third maximum here means the third maximum distinct number.\n",
    "Both numbers with value 2 are both considered as second maximum."
   ]
  },
  {
   "cell_type": "code",
   "execution_count": 30,
   "metadata": {},
   "outputs": [],
   "source": [
    "def thirdMax(nums):\n",
    "    num = list(set(nums))\n",
    "    if len(num) == 1:\n",
    "        return num[0]\n",
    "    elif len(num) == 2:\n",
    "        if num[0] > num[1]:\n",
    "            return num[0]\n",
    "        else:\n",
    "            return num[1]\n",
    "    else:\n",
    "        if num[0] > num[1]:\n",
    "            max1 = num[0]\n",
    "            max2 = num[1]\n",
    "        else:\n",
    "            max1=num[1]\n",
    "            max2=num[0]\n",
    "            max3 = 0\n",
    "        for i in range(len(num)):\n",
    "            if num[i] > max1:\n",
    "                max3=max2\n",
    "                max2=max1\n",
    "                max1=num[i]\n",
    "            elif (num[i] > max2) and (num[i] < max1):\n",
    "                max3=max2\n",
    "                max2 = num[i]\n",
    "            elif (num[i] > max3) and (num[i] < max2):\n",
    "                max3=num[i]\n",
    "            else:\n",
    "                pass\n",
    "        return max3    "
   ]
  },
  {
   "cell_type": "code",
   "execution_count": null,
   "metadata": {},
   "outputs": [],
   "source": []
  },
  {
   "cell_type": "code",
   "execution_count": null,
   "metadata": {},
   "outputs": [],
   "source": []
  },
  {
   "cell_type": "markdown",
   "metadata": {},
   "source": [
    "### relative ranks\n",
    "### https://leetcode.com/problems/relative-ranks/\n",
    "\n",
    "\n",
    "Given scores of N athletes, find their relative ranks and the people with the top three highest scores, who will be awarded medals: \"Gold Medal\", \"Silver Medal\" and \"Bronze Medal\".\n",
    "\n",
    "Example 1:\n",
    "Input: [5, 4, 3, 2, 1]\n",
    "Output: [\"Gold Medal\", \"Silver Medal\", \"Bronze Medal\", \"4\", \"5\"]\n",
    "Explanation: The first three athletes got the top three highest scores, so they got \"Gold Medal\", \"Silver Medal\" and \"Bronze Medal\". \n",
    "For the left two athletes, you just need to output their relative ranks according to their scores.\n",
    "Note:\n",
    "N is a positive integer and won't exceed 10,000.\n",
    "All the scores of athletes are guaranteed to be unique."
   ]
  },
  {
   "cell_type": "code",
   "execution_count": 31,
   "metadata": {},
   "outputs": [],
   "source": [
    "# use sort directly, or impletment a sort function ourself. The mainl limitation is how fast the sort runs. \n",
    "# so O(N^2), O(NlogN)  -- nerge sort \n",
    "\n",
    "# can't implement a nerge sort from scrath yet\n",
    "\n",
    "#### TBD\n"
   ]
  },
  {
   "cell_type": "code",
   "execution_count": null,
   "metadata": {},
   "outputs": [],
   "source": []
  },
  {
   "cell_type": "code",
   "execution_count": null,
   "metadata": {},
   "outputs": [],
   "source": []
  }
 ],
 "metadata": {
  "kernelspec": {
   "display_name": "Python 3",
   "language": "python",
   "name": "python3"
  },
  "language_info": {
   "codemirror_mode": {
    "name": "ipython",
    "version": 3
   },
   "file_extension": ".py",
   "mimetype": "text/x-python",
   "name": "python",
   "nbconvert_exporter": "python",
   "pygments_lexer": "ipython3",
   "version": "3.6.8"
  }
 },
 "nbformat": 4,
 "nbformat_minor": 2
}
