{
 "cells": [
  {
   "cell_type": "code",
   "execution_count": null,
   "metadata": {},
   "outputs": [],
   "source": [
    "\n",
    "\n",
    "Print a string in reverse order.\n",
    "\n",
    "https://leetcode.com/explore/featured/card/recursion-i/250/principle-of-recursion/1440/\n",
    "\n"
   ]
  },
  {
   "cell_type": "code",
   "execution_count": 9,
   "metadata": {},
   "outputs": [],
   "source": [
    "def reverseSTR(s):\n",
    "    # use recurrsion\n",
    "    if len(s) <= 1:\n",
    "        print(s)\n",
    "    else:\n",
    "        print(s[-1])\n",
    "        reverseSTR(s[:-1])\n",
    "        "
   ]
  },
  {
   "cell_type": "code",
   "execution_count": null,
   "metadata": {},
   "outputs": [],
   "source": []
  },
  {
   "cell_type": "code",
   "execution_count": null,
   "metadata": {},
   "outputs": [],
   "source": []
  },
  {
   "cell_type": "code",
   "execution_count": 8,
   "metadata": {},
   "outputs": [
    {
     "data": {
      "text/plain": [
       "'abcdef'"
      ]
     },
     "execution_count": 8,
     "metadata": {},
     "output_type": "execute_result"
    }
   ],
   "source": [
    "#Given 1->2->3->4, you should return the list as 2->1->4->3.\n",
    "#https://leetcode.com/explore/featured/card/recursion-i/250/principle-of-recursion/1681/\n"
   ]
  },
  {
   "cell_type": "markdown",
   "metadata": {},
   "source": [
    "Given a non-negative integer numRows, generate the first numRows of Pascal's triangle."
   ]
  },
  {
   "cell_type": "code",
   "execution_count": 23,
   "metadata": {},
   "outputs": [],
   "source": [
    "# recursion \n",
    "# takes long time...\n",
    "# try DP\n",
    "def get_i_j_term(i,j):\n",
    "    if j <= i:\n",
    "        if j == 0:\n",
    "            return 1\n",
    "        elif i==j:\n",
    "            return 1\n",
    "        else:\n",
    "            return get_i_j_term(i-1,j-1) + get_i_j_term(i-1,j)\n",
    "    else:\n",
    "        return 0"
   ]
  },
  {
   "cell_type": "code",
   "execution_count": 39,
   "metadata": {},
   "outputs": [
    {
     "data": {
      "text/plain": [
       "5200300"
      ]
     },
     "execution_count": 39,
     "metadata": {},
     "output_type": "execute_result"
    }
   ],
   "source": [
    "# DP\n",
    "# this will return all the rows up to the input number\n",
    "def generate(numRows):\n",
    "    triangle = []   # initialize the array \n",
    "    # the triangle array is updated real time \n",
    "    \n",
    "    for row_num in range(numRows):\n",
    "        row = [None for _ in range(row_num+1)] # create an array for a specific row \n",
    "        row[0], row[-1] = 1,1  # update the newly created row with 1 for 1st and last entry\n",
    "        \n",
    "        # lool over the newly created row and update those entry\n",
    "        for j in range(1,len(row)-1):\n",
    "            row[j] = triangle[row_num-1][j-1] + triangle[row_num-1][j]\n",
    "        triangle.append(row)\n",
    "    return triangle\n",
    "\n"
   ]
  },
  {
   "cell_type": "code",
   "execution_count": 38,
   "metadata": {},
   "outputs": [
    {
     "data": {
      "text/plain": [
       "[0, 1, 2]"
      ]
     },
     "execution_count": 38,
     "metadata": {},
     "output_type": "execute_result"
    }
   ],
   "source": [
    "# DP\n",
    "# return just 1 row\n",
    "# same exact set up but just return the last entry\n",
    "def generate(rowIndex):\n",
    "    triangle = []   # initialize the array \n",
    "    # the triangle array is updated real time \n",
    "    \n",
    "    for row_num in range(rowIndex+1):\n",
    "        row = [None for _ in range(row_num+1)] # create an array for a specific row \n",
    "        row[0], row[-1] = 1,1  # update the newly created row with 1 for 1st and last entry\n",
    "        \n",
    "        # lool over the newly created row and update those entry\n",
    "        for j in range(1,len(row)-1):\n",
    "            row[j] = triangle[row_num-1][j-1] + triangle[row_num-1][j]\n",
    "        triangle.append(row)\n",
    "    return triangle[-1]"
   ]
  },
  {
   "cell_type": "markdown",
   "metadata": {},
   "source": [
    "https://leetcode.com/explore/featured/card/recursion-i/251/scenario-i-recurrence-relation/2378/\n",
    "\n",
    "reverse a linked list\n",
    "\n",
    "\n",
    "# Dont know how to solve this one yet "
   ]
  },
  {
   "cell_type": "code",
   "execution_count": null,
   "metadata": {},
   "outputs": [],
   "source": [
    "def reverseList(head):\n",
    "    # iterative:\n",
    "    # linked list u move by accessing head and head.next\n",
    "    newhead=None\n",
    "    if (head and head.next):\n",
    "        return head\n",
    "    else:\n",
    "        return head\n",
    "    \n",
    "    \n",
    "    "
   ]
  },
  {
   "cell_type": "code",
   "execution_count": 81,
   "metadata": {},
   "outputs": [],
   "source": [
    "# Fibonacci number. \n",
    "# use memoization to help reduce duplicate calculation\n",
    "# https://leetcode.com/explore/learn/card/recursion-i/255/recursion-memoization/1661/\n",
    "    \n",
    "F = {0:0,1:1}  # the cache should be outside the function\n",
    "# also check need a condition to check if the input case is covered. \n",
    "# if covered -> return the cache, if not, update the cache \n",
    "def fib(N):\n",
    "    if N < 0:\n",
    "        return 0\n",
    "    elif N <=1:\n",
    "        return F[N]\n",
    "    elif N in F.keys():\n",
    "        return F[N]\n",
    "    else:\n",
    "        F[N] = (fib(N-1) + fib(N-2))\n",
    "        print(F)\n",
    "        return F[N]\n",
    "    \n",
    "\n",
    "# the online leetcode version.. requires self. -\n",
    "# class Solution:\n",
    "#     F = {0:0,1:1}  # the cache should be inside the function\n",
    "#     def fib(self, N):\n",
    "#         if N < 0:\n",
    "#             return 0\n",
    "#         elif N <=1:\n",
    "#             return self.F[N]\n",
    "#         elif N in self.F.keys():\n",
    "#             return self.F[N]\n",
    "#         else:\n",
    "#             self.F[N] = (self.fib(N-1) + self.fib(N-2))\n",
    "#             # print(F)\n",
    "#             return self.F[N]    \n",
    "    "
   ]
  },
  {
   "cell_type": "markdown",
   "metadata": {},
   "source": [
    "https://leetcode.com/explore/learn/card/recursion-i/255/recursion-memoization/1662/\n",
    "\n",
    "climbining steps \n",
    "You are climbing a stair case. It takes n steps to reach to the top.\n",
    "\n",
    "Each time you can either climb 1 or 2 steps. In how many distinct ways can you climb to the top?"
   ]
  },
  {
   "cell_type": "code",
   "execution_count": 93,
   "metadata": {},
   "outputs": [],
   "source": [
    "# recurssion -- takes long \n",
    "# try DP \n",
    "def climbStairs(n): \n",
    "    if n == 1:\n",
    "        return 1\n",
    "    elif n==2:\n",
    "        return 2\n",
    "    else:\n",
    "        return climbStairs(n-1)+climbStairs(n-2)\n"
   ]
  },
  {
   "cell_type": "code",
   "execution_count": 94,
   "metadata": {},
   "outputs": [
    {
     "data": {
      "text/plain": [
       "3"
      ]
     },
     "execution_count": 94,
     "metadata": {},
     "output_type": "execute_result"
    }
   ],
   "source": []
  },
  {
   "cell_type": "code",
   "execution_count": 97,
   "metadata": {},
   "outputs": [],
   "source": [
    "knownMoves = {0:0,1:1,2:2}\n",
    "def climbStairs(n): \n",
    "    if n<0:\n",
    "        return 0\n",
    "    elif n in knownMoves.keys():\n",
    "        return knownMoves[n]\n",
    "    else:\n",
    "        knownMoves[n] = climbStairs(n-1)+climbStairs(n-2)\n",
    "        return knownMoves[n]"
   ]
  },
  {
   "cell_type": "code",
   "execution_count": 98,
   "metadata": {},
   "outputs": [
    {
     "data": {
      "text/plain": [
       "14930352"
      ]
     },
     "execution_count": 98,
     "metadata": {},
     "output_type": "execute_result"
    }
   ],
   "source": [
    "climbStairs(35)"
   ]
  },
  {
   "cell_type": "code",
   "execution_count": null,
   "metadata": {},
   "outputs": [],
   "source": []
  },
  {
   "cell_type": "code",
   "execution_count": null,
   "metadata": {},
   "outputs": [],
   "source": []
  },
  {
   "cell_type": "markdown",
   "metadata": {},
   "source": [
    "max depth of a binary tree \n",
    "# Dont know how to deal with tree yet "
   ]
  },
  {
   "cell_type": "code",
   "execution_count": null,
   "metadata": {},
   "outputs": [],
   "source": []
  },
  {
   "cell_type": "markdown",
   "metadata": {},
   "source": [
    "exponent \n",
    "\n",
    "# also it's ok to define a function within a function\n"
   ]
  },
  {
   "cell_type": "code",
   "execution_count": 114,
   "metadata": {},
   "outputs": [],
   "source": [
    "\n",
    "\n",
    "def myPow(x, n):\n",
    "    if n == 0:\n",
    "        return 1\n",
    "    elif n < 0:\n",
    "        return 1/myPow(x,-n)\n",
    "    elif n%2 ==0:  # if n is an even number:\n",
    "        return myPow(x*x,n/2)\n",
    "    else:\n",
    "        return myPow(x,n-1)*x\n",
    "\n",
    "        \n",
    "            \n",
    "def myPow2(x, n):\n",
    "    if n == 0:\n",
    "        return 1\n",
    "    elif n < 0:\n",
    "        return 1/myPow2(x,-n)\n",
    "    else:\n",
    "        return myPow2(x,n-1)*x\n",
    "\n",
    "    "
   ]
  },
  {
   "cell_type": "code",
   "execution_count": 135,
   "metadata": {},
   "outputs": [
    {
     "data": {
      "text/plain": [
       "0.0"
      ]
     },
     "execution_count": 135,
     "metadata": {},
     "output_type": "execute_result"
    }
   ],
   "source": [
    "import time\n",
    "\n",
    "\n",
    "x = 3\n",
    "n=4\n",
    "myPow(x,n)\n",
    "s=time.time()\n",
    "\n",
    "e = time.time()\n",
    "e- s\n",
    "\n",
    "s1=time.time()\n",
    "myPow2(x,n)\n",
    "e1 = time.time()\n",
    "e1 - s1"
   ]
  },
  {
   "cell_type": "code",
   "execution_count": 140,
   "metadata": {},
   "outputs": [
    {
     "data": {
      "text/plain": [
       "1557710268.9215474"
      ]
     },
     "execution_count": 140,
     "metadata": {},
     "output_type": "execute_result"
    }
   ],
   "source": [
    "s"
   ]
  },
  {
   "cell_type": "code",
   "execution_count": null,
   "metadata": {},
   "outputs": [],
   "source": []
  }
 ],
 "metadata": {
  "kernelspec": {
   "display_name": "Python 3",
   "language": "python",
   "name": "python3"
  },
  "language_info": {
   "codemirror_mode": {
    "name": "ipython",
    "version": 3
   },
   "file_extension": ".py",
   "mimetype": "text/x-python",
   "name": "python",
   "nbconvert_exporter": "python",
   "pygments_lexer": "ipython3",
   "version": "3.6.8"
  }
 },
 "nbformat": 4,
 "nbformat_minor": 2
}
