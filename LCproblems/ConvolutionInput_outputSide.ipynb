{
 "cells": [
  {
   "cell_type": "markdown",
   "metadata": {},
   "source": [
    "Convolution:\n",
    "x[n] * h[n] = y[n]\n",
    "where x[n] is sample (array) of n elements, h[n] is m elements. y[n] has m+n-1 elements\n",
    "\n"
   ]
  },
  {
   "cell_type": "code",
   "execution_count": 25,
   "metadata": {},
   "outputs": [],
   "source": [
    "# from the input side, \n",
    "def outputSide(inputArray,impulseArray,indexNumb):\n",
    "    convolsum =0\n",
    "    if indexNumb > len(inputArray) + len(impulseArray) -1:\n",
    "        print(\"wrong index\")\n",
    "        return convolsum\n",
    "    else:\n",
    "        for j in range(len(impulseArray)):\n",
    "            if indexNumb >= j and (indexNumb-j) < len(inputArray):\n",
    "                hj = impulseArray[j]\n",
    "#                 print(indexNumb-j)\n",
    "                xj = inputArray[indexNumb-j]\n",
    "            else:\n",
    "                xj = 0\n",
    "                hj = 0\n",
    "            convolsum  = convolsum + xj*hj\n",
    "        return convolsum\n",
    "    "
   ]
  },
  {
   "cell_type": "code",
   "execution_count": 28,
   "metadata": {},
   "outputs": [
    {
     "data": {
      "text/plain": [
       "9"
      ]
     },
     "execution_count": 28,
     "metadata": {},
     "output_type": "execute_result"
    }
   ],
   "source": [
    "xs = [0,-1,-1.2,2,1.4,1.4,0.8,0,-0.8]\n",
    "hs = [1,-0.8,-0.2,-0.1]\n",
    "len(xs)"
   ]
  },
  {
   "cell_type": "code",
   "execution_count": 29,
   "metadata": {},
   "outputs": [
    {
     "data": {
      "text/plain": [
       "[0,\n",
       " -1.0,\n",
       " -0.3999999999999999,\n",
       " 3.16,\n",
       " 0.13999999999999982,\n",
       " 0.0,\n",
       " -0.7999999999999998,\n",
       " -1.06,\n",
       " -1.1,\n",
       " 0.56,\n",
       " 0.16000000000000003,\n",
       " 0.08000000000000002]"
      ]
     },
     "execution_count": 29,
     "metadata": {},
     "output_type": "execute_result"
    }
   ],
   "source": [
    "list(map(lambda x:outputSide(xs,hs,x),range(len(xs)+len(hs)-1)))"
   ]
  },
  {
   "cell_type": "code",
   "execution_count": null,
   "metadata": {},
   "outputs": [],
   "source": [
    "def inputside()"
   ]
  }
 ],
 "metadata": {
  "kernelspec": {
   "display_name": "Python 3",
   "language": "python",
   "name": "python3"
  },
  "language_info": {
   "codemirror_mode": {
    "name": "ipython",
    "version": 3
   },
   "file_extension": ".py",
   "mimetype": "text/x-python",
   "name": "python",
   "nbconvert_exporter": "python",
   "pygments_lexer": "ipython3",
   "version": "3.6.8"
  }
 },
 "nbformat": 4,
 "nbformat_minor": 2
}
