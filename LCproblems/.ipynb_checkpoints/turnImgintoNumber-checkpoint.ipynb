{
 "cells": [
  {
   "cell_type": "code",
   "execution_count": 58,
   "metadata": {},
   "outputs": [
    {
     "data": {
      "text/html": [
       "<style>\n",
       ".output_wrapper, .output{\n",
       "    height:auto !important;\n",
       "    max-height:10000px; \n",
       "    \n",
       "}\n",
       ".output_scroll{\n",
       "    box-shadow:none !important;\n",
       "    webkit-box-shadow:none !important\n",
       "    \n",
       "}\n",
       "\n",
       "</style>\n",
       "\n"
      ],
      "text/plain": [
       "<IPython.core.display.HTML object>"
      ]
     },
     "metadata": {},
     "output_type": "display_data"
    }
   ],
   "source": [
    "%%html\n",
    "<style>\n",
    ".output_wrapper, .output{\n",
    "    height:auto !important;\n",
    "    max-height:10000px; \n",
    "    \n",
    "}\n",
    ".output_scroll{\n",
    "    box-shadow:none !important;\n",
    "    webkit-box-shadow:none !important\n",
    "    \n",
    "}\n",
    "\n",
    "</style>\n",
    "\n"
   ]
  },
  {
   "cell_type": "code",
   "execution_count": 59,
   "metadata": {},
   "outputs": [],
   "source": [
    "# from Ipython.core.display import display, HTML\n",
    "# display(HTML(\"<style>.container{width:90% !important;}</style>\"))"
   ]
  },
  {
   "cell_type": "code",
   "execution_count": 134,
   "metadata": {},
   "outputs": [],
   "source": [
    "import cv2\n",
    "import numpy as np\n",
    "import os\n",
    "\n"
   ]
  },
  {
   "cell_type": "code",
   "execution_count": 139,
   "metadata": {},
   "outputs": [],
   "source": [
    "\n",
    "# Load an color image in grayscale\n",
    "imgpath1 = os.path.join('C:/','Users','li_ji','Downloads','Image_20190531220128.jpg')\n",
    "imgpath2 = os.path.join('C:/','Users','li_ji','Downloads','Image_20190531220135.jpg')\n",
    "imgpath3 = os.path.join('C:/','Users','li_ji','Downloads','Image_20190531234510.jpg')\n",
    "\n",
    "img = cv2.imread(imgpath2,0)\n",
    "\n"
   ]
  },
  {
   "cell_type": "code",
   "execution_count": 140,
   "metadata": {},
   "outputs": [
    {
     "name": "stdout",
     "output_type": "stream",
     "text": [
      "2048 1031\n"
     ]
    }
   ],
   "source": [
    "width,height = img.shape\n",
    "print(width,height )"
   ]
  },
  {
   "cell_type": "code",
   "execution_count": 141,
   "metadata": {},
   "outputs": [],
   "source": [
    "# img = cv2.resize(img,(480,640))\n",
    "\n",
    "# currently 480 by 640 \n",
    "# should only use\n",
    "imgcrop = img[300:1500,:]\n",
    "img = cv2.resize(imgcrop,(500,500))"
   ]
  },
  {
   "cell_type": "code",
   "execution_count": 142,
   "metadata": {},
   "outputs": [],
   "source": [
    "# img[0][0:20]\n",
    "# img = cv2.resize(imgcrop,(360,640))\n",
    "cv2.imshow('image',img)\n",
    "cv2.waitKey(0)\n",
    "cv2.destroyAllWindows()"
   ]
  },
  {
   "cell_type": "code",
   "execution_count": 153,
   "metadata": {},
   "outputs": [],
   "source": [
    "\n",
    "# replacementValue = {'dark':'0','light':'1'}\n",
    "\n",
    "def pixel2Number(pixValue,cl):\n",
    "    try:\n",
    "        option1s = len(cl)\n",
    "        mapInterval_length = int(256/option1s)+1\n",
    "        charChosen = int((pixValue+1)/mapInterval_length)\n",
    "        return charList[charChosen]\n",
    "    except IndexError:\n",
    "        print(pixValue,charChosen)\n",
    "        return 0\n",
    "        \n",
    "\n",
    "\n",
    "\n",
    "# def makeAsciiImg(imgobj,everyKelement,threshold,replacementValue=replacementValue):\n",
    "#     imgmatrix = []\n",
    "#     #640 elements in img list -- rows. Each element in img list is another list of size 480 (columns)\n",
    "#     for row1 in range(0,len(imgobj),everyKelement):\n",
    "#         temp = ''\n",
    "#         for col1 in range(0,len(imgobj[row1]),everyKelement):\n",
    "#             if imgobj[row1,col1] > threshold:\n",
    "#                 temp = temp+replacementValue['light']\n",
    "#             else:\n",
    "#                 temp = temp + replacementValue['dark']\n",
    "#         imgmatrix.append(temp)\n",
    "#     return imgmatrix\n",
    "\n",
    "\n",
    "\n",
    "# charList=['@','@','#','#','%','%','$','$','8','8']\n",
    "# charList=['2','2','2','2','0','0','0','0','1','1']\n",
    "charList=[0,0,0,0,1,1]\n",
    "def makeAsciiImgV2(imgobj,everyKelement,charList):\n",
    "    imgmatrix = []\n",
    "    #640 elements in img list -- rows. Each element in img list is another list of size 480 (columns)\n",
    "    for row1 in range(0,len(imgobj),everyKelement):\n",
    "        temp = ''\n",
    "        for col1 in range(0,len(imgobj[row1]),everyKelement):\n",
    "            replace=pixel2Number(imgobj[row1,col1],charList)\n",
    "#             replace = pixel2Number(imgobj[row1,col1],charList)\n",
    "            temp = temp+str(replace)\n",
    "        imgmatrix.append(temp)\n",
    "    return imgmatrix\n",
    "            \n"
   ]
  },
  {
   "cell_type": "code",
   "execution_count": 154,
   "metadata": {
    "scrolled": false
   },
   "outputs": [
    {
     "data": {
      "text/plain": [
       "['00000000000000000000000000000000000000000000000000',\n",
       " '00000000000000000000000000000000000000000000000000',\n",
       " '00000000000000000000000000000000000000000000000000',\n",
       " '00000000000000000000000000000000000000000000000001',\n",
       " '00000000000000000000000000000000000000000000000011',\n",
       " '00000000000000000000000000000000000000000000000011',\n",
       " '00000000000000000000000000000000000000000000000011',\n",
       " '10000000000000000000000000000000001100000000000011',\n",
       " '10000000000000000000000000000111111110000000000011',\n",
       " '11100111111100000000000001111111111110000000000011',\n",
       " '11111111110000000000000011111111111111000000000011',\n",
       " '11111111111000000000000111111111111111000000000111',\n",
       " '11111111100000000000111111111111111111100000000111',\n",
       " '11100011000000000001111111111111111111100000000001',\n",
       " '10000000000000000000111111111111111111110000000000',\n",
       " '00000000000000000001111111111111111111110000000000',\n",
       " '00000000000000000011111111111111111111111000000000',\n",
       " '00000000000000000111110011111111111111111100000000',\n",
       " '00000000000000000111110011111111111111111110000000',\n",
       " '00000000000000000000000001111111111111111110000000',\n",
       " '00000000000000000000000011111111000111111111000000',\n",
       " '00000000000000000000111011101000000011111111000000',\n",
       " '11110000000000000000111100010000000011111111000000',\n",
       " '00000000000000000000111111111000000000111111100000',\n",
       " '00000110000000000000111111100000000000001111100000',\n",
       " '10001100000000000001111111100000000000001111100000',\n",
       " '11111000000000000011111111100000000000001111100000',\n",
       " '10000000000000000111111111100000000000011111100000',\n",
       " '00000000000000000111111111100000000000011111110000',\n",
       " '00000000000000001111111111110000000000111111000000',\n",
       " '00000000000000011111111111100000000000111100000000',\n",
       " '00000000000000011111111111000000000001111000000000',\n",
       " '00000000000000011111111111000000000001111000000000',\n",
       " '00000000000000111111111110000000000001111000000000',\n",
       " '00000000000000001111111010000000000011111000000000',\n",
       " '00000000000000000000011110000000000011111000000000',\n",
       " '00000000000000000000000000000000000001100000000000',\n",
       " '00000000000000000000000000000000000000000000000000',\n",
       " '00000000000000000000000000000000000000000000000000',\n",
       " '00000000000000000000000000000000000000000000000000',\n",
       " '00000000000000000000000000000000000000000000000000',\n",
       " '10000000000000000000000000000000000000000000000000',\n",
       " '00000000000000000000000000000000000000000000000000',\n",
       " '00000000000000000000000000000000000000000000000000',\n",
       " '00000000000000000000000000000000000000000000000000',\n",
       " '00000000000000000000000000000000000000000000000000',\n",
       " '00000000000000000000000000000000000000000000000000',\n",
       " '00000000000000000000000000000000000000000000000000',\n",
       " '00000000000000000000000000000000000000000000000000',\n",
       " '00000000000000000000000000000000000000000000000000']"
      ]
     },
     "execution_count": 154,
     "metadata": {},
     "output_type": "execute_result"
    }
   ],
   "source": [
    "makeAsciiImgV2(img,10,charList)\n",
    "# len(charList)\n",
    "# pixel2Number(214,charList)"
   ]
  },
  {
   "cell_type": "code",
   "execution_count": null,
   "metadata": {},
   "outputs": [],
   "source": []
  },
  {
   "cell_type": "code",
   "execution_count": null,
   "metadata": {},
   "outputs": [],
   "source": []
  }
 ],
 "metadata": {
  "kernelspec": {
   "display_name": "Python 3",
   "language": "python",
   "name": "python3"
  },
  "language_info": {
   "codemirror_mode": {
    "name": "ipython",
    "version": 3
   },
   "file_extension": ".py",
   "mimetype": "text/x-python",
   "name": "python",
   "nbconvert_exporter": "python",
   "pygments_lexer": "ipython3",
   "version": "3.6.8"
  }
 },
 "nbformat": 4,
 "nbformat_minor": 2
}
